{
  "nbformat": 4,
  "nbformat_minor": 0,
  "metadata": {
    "colab": {
      "provenance": [],
      "authorship_tag": "ABX9TyPmE/UyFZcgRLuovPoKFDzB",
      "include_colab_link": true
    },
    "kernelspec": {
      "name": "python3",
      "display_name": "Python 3"
    },
    "language_info": {
      "name": "python"
    }
  },
  "cells": [
    {
      "cell_type": "markdown",
      "metadata": {
        "id": "view-in-github",
        "colab_type": "text"
      },
      "source": [
        "<a href=\"https://colab.research.google.com/github/niyassaleem/ARIndoorNav/blob/master/Untitled0.ipynb\" target=\"_parent\"><img src=\"https://colab.research.google.com/assets/colab-badge.svg\" alt=\"Open In Colab\"/></a>"
      ]
    },
    {
      "cell_type": "code",
      "execution_count": 14,
      "metadata": {
        "colab": {
          "base_uri": "https://localhost:8080/",
          "height": 628
        },
        "id": "nb6l6lCffbFh",
        "outputId": "8c69f8f2-51db-4c81-feec-8e584b1d2a00"
      },
      "outputs": [
        {
          "output_type": "stream",
          "name": "stderr",
          "text": [
            "<ipython-input-14-de50db3dc3b6>:15: UserWarning: In Matplotlib 3.3 individual lines on a stem plot will be added as a LineCollection instead of individual lines. This significantly improves the performance of a stem plot. To remove this warning and switch to the new behaviour, set the \"use_line_collection\" keyword argument to True.\n",
            "  stem(d,e,label = 'quadratic')\n"
          ]
        },
        {
          "output_type": "display_data",
          "data": {
            "text/plain": [
              "<Figure size 432x288 with 1 Axes>"
            ],
            "image/png": "[encoded data removed]"
          },
          "metadata": {
            "needs_background": "light"
          }
        },
        {
          "output_type": "stream",
          "name": "stdout",
          "text": [
            "the array of complex numbers is  [2, (4+6j), 8, 12j]\n",
            "the array is\n",
            "[[1, 2, 3, 4, 5], [6, 7, 8, 9, 10], [11, 12, 13, 15]]\n",
            "the transpose of array\n",
            "[list([1, 2, 3, 4, 5]) list([6, 7, 8, 9, 10]) list([11, 12, 13, 15])]\n",
            "A matrix is\n",
            "[[3, 2, -5], [1, -3, 2], [5, -1, 4]]\n",
            "B matrix is\n",
            "[12, -13, 10]\n",
            "x matrix is\n",
            "the value of x is: 2.170454545454546\n",
            "the value of y is: 5.897727272727273\n",
            "the value of z is: 1.2613636363636362\n",
            "eigen value are : [-0.29150262 10.29150262]\n"
          ]
        },
        {
          "output_type": "stream",
          "name": "stderr",
          "text": [
            "/usr/local/lib/python3.8/dist-packages/numpy/core/fromnumeric.py:43: VisibleDeprecationWarning: Creating an ndarray from ragged nested sequences (which is a list-or-tuple of lists-or-tuples-or ndarrays with different lengths or shapes) is deprecated. If you meant to do this, you must specify 'dtype=object' when creating the ndarray.\n",
            "  result = getattr(asarray(obj), method)(*args, **kwds)\n"
          ]
        }
      ],
      "source": [
        "from matplotlib.pyplot import *\n",
        "from numpy import *\n",
        "from math import *\n",
        "from pylab import *\n",
        "\n",
        "x= [2,complex(4,6),8,complex(0,12)]\n",
        "a = 7\n",
        "b = 2 \n",
        "c = complex(a,b)\n",
        "d = linspace(0,1,10)\n",
        "e = d ** 2\n",
        "f = d ** 3\n",
        "\n",
        "plot(d,d,label = 'linear')\n",
        "stem(d,e,label = 'quadratic')\n",
        "\n",
        "plot(d,f , label = 'cubic')\n",
        "xlabel('x axis')\n",
        "ylabel('y label')\n",
        "title(\"array plotting\")\n",
        "legend()\n",
        "show()\n",
        "\n",
        "m = [[1,2,3,4,5],[6,7,8,9,10],[11,12,13,15]]\n",
        "\n",
        "print(\"the array of complex numbers is \",x)\n",
        "print(\"the array is\")\n",
        "print(m)\n",
        "\n",
        "\n",
        "print('the transpose of array')\n",
        "print(transpose(m))\n",
        "\n",
        "#imshow(m)\n",
        "show()\n",
        "r = [[3,2,-5],[1,-3,2],[5,-1,4]]\n",
        "s = [12,-13,10]\n",
        "\n",
        "print(\"A matrix is\")\n",
        "print(r)\n",
        "print(\"B matrix is\")\n",
        "print(s)\n",
        "\n",
        "x = inv(r).dot(s)\n",
        "print(\"x matrix is\")\n",
        "print(\"the value of x is:\",x[0] )\n",
        "print(\"the value of y is:\",x[1])\n",
        "print(\"the value of z is:\",x[2])\n",
        "\n",
        "i = [[3,4],[6,7]]\n",
        "rank = matrix_rank(i)\n",
        "eigen = eig(i)\n",
        "\n",
        "print(\"eigen value are :\",eigen[0])\n",
        "\n",
        "\n"
      ]
    }
  ]
}